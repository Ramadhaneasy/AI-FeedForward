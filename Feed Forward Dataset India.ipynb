{
 "cells": [
  {
   "cell_type": "code",
   "execution_count": null,
   "id": "32ac90b4-eba8-4c45-93cd-6c4d95adee91",
   "metadata": {},
   "outputs": [],
   "source": [
    "#Import Library\n",
    "#numpy: Library untuk melakukan operasi matematis dan manipulasi array.\n",
    "#loadtxt: Fungsi untuk memuat dataset dalam format teks atau CSV.\n",
    "\n",
    "import numpy as np\n",
    "from numpy import loadtxt"
   ]
  },
  {
   "cell_type": "code",
   "execution_count": null,
   "id": "07b5adf2-6cf0-494d-9b44-a152f1cd6efa",
   "metadata": {},
   "outputs": [],
   "source": [
    "#Load Dataset\n",
    "#dataset: Membaca file CSV Feed Forward Dataset India.csv dengan pemisah koma (,) menggunakan loadtxt.\n",
    "#X: Berisi kolom 0 hingga 7 dari dataset sebagai input features.\n",
    "#y: Berisi kolom ke-8 sebagai target output.\n",
    "\n",
    "dataset = loadtxt('Feed Forward Dataset India.csv', delimiter=',')\n",
    "X = dataset[:, 0:8]\n",
    "y = dataset[:, 8]"
   ]
  },
  {
   "cell_type": "code",
   "execution_count": null,
   "id": "c6c5bb57-6812-474a-a004-552588881a7a",
   "metadata": {},
   "outputs": [],
   "source": [
    "#Transpose dan Reshape Data\n",
    "#X.T: Mengubah bentuk matriks input menjadi transposenya (baris menjadi kolom dan sebaliknya).\n",
    "#y.reshape((-1, 1)): Mengubah y menjadi vektor kolom untuk penyesuaian dimensi.\n",
    "#y.T: Transposisi vektor target y.\n",
    "\n",
    "X = X.T\n",
    "y = y.reshape((-1, 1))\n",
    "y = y.T"
   ]
  },
  {
   "cell_type": "code",
   "execution_count": null,
   "id": "18b1ff32-fdc8-4f35-bd28-0718a479fbe7",
   "metadata": {},
   "outputs": [],
   "source": [
    "#Inisialisasi Bobot dan Bias\n",
    "#Bobot (w) diinisialisasi secara acak menggunakan np.random.rand.\n",
    "#Bias (b) diinisialisasi dengan nilai nol menggunakan np.zeros.\n",
    "#Dimensi:\n",
    "#w1: 10 neuron di layer pertama, 8 input features.\n",
    "#w2: 4 neuron di layer kedua, 10 output dari layer pertama.\n",
    "#w3: 1 output neuron, 4 output dari layer kedua.\n",
    "\n",
    "w1 = np.random.rand(10,8)\n",
    "b1 = np.zeros((10,1))\n",
    "\n",
    "w2 = np.random.rand(4,10)\n",
    "b2 = np.zeros((4,1))\n",
    "\n",
    "w1 = np.random.rand(1,4)\n",
    "b1 = np.zeros((1,1))"
   ]
  },
  {
   "cell_type": "code",
   "execution_count": null,
   "id": "484cf81c-178c-43b4-94ad-c471c3c8e2b2",
   "metadata": {},
   "outputs": [],
   "source": [
    "#Fungsi Aktivasi Sigmoid\n",
    "#Fungsi ini mengubah nilai input menjadi rentang antara 0 hingga 1, yang berguna untuk aktivasi neuron.\n",
    "\n",
    "def sigmoid(z):\n",
    "    \n",
    "    a = 1 / (1 + np.exp(-z))\n",
    "    \n",
    "    return a"
   ]
  },
  {
   "cell_type": "code",
   "execution_count": null,
   "id": "a2ea36a9-89de-4dbd-9cc7-04a2339fecce",
   "metadata": {},
   "outputs": [],
   "source": [
    "#Feed Forward Process\n",
    "a0 = X\n",
    "\n",
    "#Hidden Layer 1\n",
    "z1 = np.dot(w1, a0) + b1\n",
    "a1 = sigmoid(z1)\n",
    "\n",
    "#Hidden Layer 2\n",
    "z2 = np.dot(w2, a1) + b2\n",
    "a2 = sigmoid(z2)\n",
    "\n",
    "#Output Layer\n",
    "z3 = np.dot(w3, a2) + b3\n",
    "a3 = sigmoid(z3)\n",
    "\n",
    "#Prediksi dan Loss Function\n",
    "#Prediksi yhat: Output akhir jaringan saraf, merepresentasikan probabilitas prediksi.\n",
    "yhat = a3\n",
    "\n",
    "#Loss Menggunakan binary cross-entropy loss untuk menghitung error antara prediksi (yhat) dan target (y).\n",
    "L = -y * np.log(yhat) - (1-y) * np.log(1-yhat)"
   ]
  }
 ],
 "metadata": {
  "kernelspec": {
   "display_name": "Python 3 (ipykernel)",
   "language": "python",
   "name": "python3"
  },
  "language_info": {
   "codemirror_mode": {
    "name": "ipython",
    "version": 3
   },
   "file_extension": ".py",
   "mimetype": "text/x-python",
   "name": "python",
   "nbconvert_exporter": "python",
   "pygments_lexer": "ipython3",
   "version": "3.12.6"
  }
 },
 "nbformat": 4,
 "nbformat_minor": 5
}
